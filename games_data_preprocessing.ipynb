{
 "cells": [
  {
   "cell_type": "markdown",
   "id": "e06910dd",
   "metadata": {
    "id": "e06910dd"
   },
   "source": [
    "# Предобработка данных о продажах игр\n"
   ]
  },
  {
   "cell_type": "markdown",
   "id": "4149134c",
   "metadata": {
    "id": "4149134c"
   },
   "source": [
    "### Цели и задачи проекта\n",
    "\n",
    "Цель - изучить исходные данные, проверить их корректность и провести предобработку, получив необходимый срез данных.    \n",
    "Задачи:\n",
    "- Загрузить и оценить данные\n",
    "- Проверить данные на наличие ошибок и предобработать их (метки столбцов, типы данных, наличие пропусков, явные и неявные дубликаты)\n",
    "- Провести фильтрацию, оставив только необходимый срез данных\n",
    "- Категоризировать данные по оценкам пользователей и экспертов"
   ]
  },
  {
   "cell_type": "markdown",
   "id": "728986ea",
   "metadata": {
    "id": "728986ea"
   },
   "source": [
    "### Описание данных\n",
    "\n",
    "В проекте будут использованы данные датасета `new_games.csv`, который содержит информацию о продажах игр разных жанров и платформ, а также пользовательские и экспертные оценки игр:\n",
    "- `Name` — название игры.\n",
    "- `Platform` — название платформы.\n",
    "- `Year of Release` — год выпуска игры.\n",
    "- `Genre` — жанр игры.\n",
    "- `NA sales` — продажи в Северной Америке (в миллионах проданных копий).\n",
    "- `EU sales` — продажи в Европе (в миллионах проданных копий).\n",
    "- `JP sales` — продажи в Японии (в миллионах проданных копий).\n",
    "- `Other sales` — продажи в других странах (в миллионах проданных копий).\n",
    "- `Critic Score` — оценка критиков (от 0 до 100).\n",
    "- `User Score` — оценка пользователей (от 0 до 10).\n",
    "- `Rating` — рейтинг организации ESRB (англ. Entertainment Software Rating Board). Эта ассоциация определяет рейтинг компьютерных игр и присваивает им подходящую возрастную категорию.\n"
   ]
  },
  {
   "cell_type": "markdown",
   "id": "4fecaf95",
   "metadata": {
    "id": "4fecaf95"
   },
   "source": [
    "### Содержимое проекта\n",
    "\n",
    "1. Загрузка данных и знакомство с ними\n",
    "2. Проверка ошибок в данных и их предобработка\n",
    "3. Фильтрация данных\n",
    "4. Категоризация данных\n",
    "5. Итоговый вывод\n",
    "---"
   ]
  },
  {
   "cell_type": "markdown",
   "id": "6f7d21d6",
   "metadata": {
    "id": "6f7d21d6"
   },
   "source": [
    "## 1. Загрузка данных и знакомство с ними\n"
   ]
  },
  {
   "cell_type": "code",
   "execution_count": 1,
   "id": "90fee493",
   "metadata": {
    "id": "90fee493"
   },
   "outputs": [],
   "source": [
    "# Импортируем библиотеку pandas\n",
    "import pandas as pd"
   ]
  },
  {
   "cell_type": "code",
   "execution_count": 2,
   "id": "87e46307",
   "metadata": {},
   "outputs": [],
   "source": [
    "# Выгружаем данные из датасета new_games.csv в датафрейм df\n",
    "df = pd.read_csv('/datasets/new_games.csv')"
   ]
  },
  {
   "cell_type": "code",
   "execution_count": 3,
   "id": "3937acf7",
   "metadata": {
    "id": "3937acf7"
   },
   "outputs": [
    {
     "data": {
      "text/html": [
       "<div>\n",
       "<style scoped>\n",
       "    .dataframe tbody tr th:only-of-type {\n",
       "        vertical-align: middle;\n",
       "    }\n",
       "\n",
       "    .dataframe tbody tr th {\n",
       "        vertical-align: top;\n",
       "    }\n",
       "\n",
       "    .dataframe thead th {\n",
       "        text-align: right;\n",
       "    }\n",
       "</style>\n",
       "<table border=\"1\" class=\"dataframe\">\n",
       "  <thead>\n",
       "    <tr style=\"text-align: right;\">\n",
       "      <th></th>\n",
       "      <th>Name</th>\n",
       "      <th>Platform</th>\n",
       "      <th>Year of Release</th>\n",
       "      <th>Genre</th>\n",
       "      <th>NA sales</th>\n",
       "      <th>EU sales</th>\n",
       "      <th>JP sales</th>\n",
       "      <th>Other sales</th>\n",
       "      <th>Critic Score</th>\n",
       "      <th>User Score</th>\n",
       "      <th>Rating</th>\n",
       "    </tr>\n",
       "  </thead>\n",
       "  <tbody>\n",
       "    <tr>\n",
       "      <th>0</th>\n",
       "      <td>Wii Sports</td>\n",
       "      <td>Wii</td>\n",
       "      <td>2006.0</td>\n",
       "      <td>Sports</td>\n",
       "      <td>41.36</td>\n",
       "      <td>28.96</td>\n",
       "      <td>3.77</td>\n",
       "      <td>8.45</td>\n",
       "      <td>76.0</td>\n",
       "      <td>8</td>\n",
       "      <td>E</td>\n",
       "    </tr>\n",
       "    <tr>\n",
       "      <th>1</th>\n",
       "      <td>Super Mario Bros.</td>\n",
       "      <td>NES</td>\n",
       "      <td>1985.0</td>\n",
       "      <td>Platform</td>\n",
       "      <td>29.08</td>\n",
       "      <td>3.58</td>\n",
       "      <td>6.81</td>\n",
       "      <td>0.77</td>\n",
       "      <td>NaN</td>\n",
       "      <td>NaN</td>\n",
       "      <td>NaN</td>\n",
       "    </tr>\n",
       "    <tr>\n",
       "      <th>2</th>\n",
       "      <td>Mario Kart Wii</td>\n",
       "      <td>Wii</td>\n",
       "      <td>2008.0</td>\n",
       "      <td>Racing</td>\n",
       "      <td>15.68</td>\n",
       "      <td>12.76</td>\n",
       "      <td>3.79</td>\n",
       "      <td>3.29</td>\n",
       "      <td>82.0</td>\n",
       "      <td>8.3</td>\n",
       "      <td>E</td>\n",
       "    </tr>\n",
       "    <tr>\n",
       "      <th>3</th>\n",
       "      <td>Wii Sports Resort</td>\n",
       "      <td>Wii</td>\n",
       "      <td>2009.0</td>\n",
       "      <td>Sports</td>\n",
       "      <td>15.61</td>\n",
       "      <td>10.93</td>\n",
       "      <td>3.28</td>\n",
       "      <td>2.95</td>\n",
       "      <td>80.0</td>\n",
       "      <td>8</td>\n",
       "      <td>E</td>\n",
       "    </tr>\n",
       "    <tr>\n",
       "      <th>4</th>\n",
       "      <td>Pokemon Red/Pokemon Blue</td>\n",
       "      <td>GB</td>\n",
       "      <td>1996.0</td>\n",
       "      <td>Role-Playing</td>\n",
       "      <td>11.27</td>\n",
       "      <td>8.89</td>\n",
       "      <td>10.22</td>\n",
       "      <td>1.00</td>\n",
       "      <td>NaN</td>\n",
       "      <td>NaN</td>\n",
       "      <td>NaN</td>\n",
       "    </tr>\n",
       "  </tbody>\n",
       "</table>\n",
       "</div>"
      ],
      "text/plain": [
       "                       Name Platform  Year of Release         Genre  NA sales  \\\n",
       "0                Wii Sports      Wii           2006.0        Sports     41.36   \n",
       "1         Super Mario Bros.      NES           1985.0      Platform     29.08   \n",
       "2            Mario Kart Wii      Wii           2008.0        Racing     15.68   \n",
       "3         Wii Sports Resort      Wii           2009.0        Sports     15.61   \n",
       "4  Pokemon Red/Pokemon Blue       GB           1996.0  Role-Playing     11.27   \n",
       "\n",
       "  EU sales JP sales  Other sales  Critic Score User Score Rating  \n",
       "0    28.96     3.77         8.45          76.0          8      E  \n",
       "1     3.58     6.81         0.77           NaN        NaN    NaN  \n",
       "2    12.76     3.79         3.29          82.0        8.3      E  \n",
       "3    10.93     3.28         2.95          80.0          8      E  \n",
       "4     8.89    10.22         1.00           NaN        NaN    NaN  "
      ]
     },
     "execution_count": 3,
     "metadata": {},
     "output_type": "execute_result"
    }
   ],
   "source": [
    "# Выводим первые строки датафрейма на экран\n",
    "df.head()"
   ]
  },
  {
   "cell_type": "code",
   "execution_count": 4,
   "id": "d7c8eb4b",
   "metadata": {
    "id": "d7c8eb4b"
   },
   "outputs": [
    {
     "name": "stdout",
     "output_type": "stream",
     "text": [
      "<class 'pandas.core.frame.DataFrame'>\n",
      "RangeIndex: 16956 entries, 0 to 16955\n",
      "Data columns (total 11 columns):\n",
      " #   Column           Non-Null Count  Dtype  \n",
      "---  ------           --------------  -----  \n",
      " 0   Name             16954 non-null  object \n",
      " 1   Platform         16956 non-null  object \n",
      " 2   Year of Release  16681 non-null  float64\n",
      " 3   Genre            16954 non-null  object \n",
      " 4   NA sales         16956 non-null  float64\n",
      " 5   EU sales         16956 non-null  object \n",
      " 6   JP sales         16956 non-null  object \n",
      " 7   Other sales      16956 non-null  float64\n",
      " 8   Critic Score     8242 non-null   float64\n",
      " 9   User Score       10152 non-null  object \n",
      " 10  Rating           10085 non-null  object \n",
      "dtypes: float64(4), object(7)\n",
      "memory usage: 1.4+ MB\n"
     ]
    }
   ],
   "source": [
    "# Выводим информацию о датафрейме\n",
    "df.info()"
   ]
  },
  {
   "cell_type": "code",
   "execution_count": 15,
   "id": "c1d0c280",
   "metadata": {},
   "outputs": [
    {
     "data": {
      "text/plain": [
       "['Platform - 31', 'Genre - 24', 'Rating - 8']"
      ]
     },
     "execution_count": 15,
     "metadata": {},
     "output_type": "execute_result"
    }
   ],
   "source": [
    "# Выводим информацию о количестве уникальных значений в некоторых столбцах\n",
    "[x + ' - ' + str(len(df[x].value_counts())) for x in ['Platform', 'Genre', 'Rating']]"
   ]
  },
  {
   "cell_type": "markdown",
   "id": "53d8bb94",
   "metadata": {},
   "source": [
    "Можно сделать вывод, что в столбцах `Platform`, `Genre`, `Rating` содержится ограниченное количество уникальных значений, а значит лучше для них выбрать категориальный тип данных."
   ]
  },
  {
   "cell_type": "markdown",
   "id": "51e0fe99",
   "metadata": {
    "id": "81651b8d"
   },
   "source": [
    "Датасет `new_games.csv` содержит 11 столбцов и 16956 строк, в которых представлена информация о продажах различных игр.\n",
    "\n",
    "Изучим типы данных и их корректность:\n",
    "- **Числовые значения с плавающей точкой (float64).** Четыре столбца представлены типом `float64`:\n",
    "    - `NA sales`, `Other sales` содержат продажи в миллионах копий и представлены типом `float64`. Это верное решение, как как величина, измеряемая в миллионах, может содержать дробные значения.\n",
    "    - `Year of Release` хранит информацию о годе выпуска игры. Для таких данных рекомендуется использовать тип `datetime64`, который облегчит выполнение временных вычислений и упростит анализ временных периодов.\n",
    "    - `Critic Score` содержит целочисленную оценку критиков от 0 до 100. Выбранный тип данных является корректным, однако для целых значений лучше использовать тип данных `int64`.\n",
    "- **Строковые данные (object).** Семь столбцов представлены типом `object`:\n",
    "    - `Name` содержит строковую информацию(названия игр), что логично для текстовых данных. Здесь тип данных `object` подходит.\n",
    "    - `EU sales`, `JP sales`, `User Score` хранят информацию о количестве продаж игр в соответствующих странах и оценке пользоваталей. Для такх данных лучше использовать тип `float64`, который облегчит процесс вычислений.\n",
    "    - `Platform`, `Genre`, `Rating`хранят текстовые данные, но лучше рассматривать их как категориальные признаки. В этом случае можно использовать тип `category`, чтобы улучшить производительность и оптимизировать память, так как набор значений ограничен(от 8 до 31) и заведомо известен."
   ]
  },
  {
   "cell_type": "markdown",
   "id": "69a7b0b2",
   "metadata": {
    "id": "191981db"
   },
   "source": [
    "Оценки критиков и оценки пользователей представлены в разных шкалах - от 0 до 100 и от 0 до 10 соответственно, что может быть вызвать трудности при анализе. Стоит привести эти столбцы к единой шкале, например, от 0 до 100 и поменять тип данных на `int64`.\n",
    "В столбцах `Name`, `Platform`, `Genre`, `Year of Release` содержится незначительное количество пропусков - **менее 2%**.\n",
    "А столбцы `User Score`, `Critic Score`, `Rating` имеют большое количество пропусков - **более 68%**.\n",
    "Также для удобства стоит привести все названия столбцов к единому стилю snake case."
   ]
  }
 ],
 "metadata": {
  "ExecuteTimeLog": [
   {
    "duration": 45,
    "start_time": "2025-04-15T17:05:45.380Z"
   },
   {
    "duration": 6,
    "start_time": "2025-04-15T17:05:53.522Z"
   },
   {
    "duration": 352,
    "start_time": "2025-04-15T17:06:00.194Z"
   },
   {
    "duration": 139,
    "start_time": "2025-04-15T17:06:01.869Z"
   },
   {
    "duration": 24,
    "start_time": "2025-04-15T17:06:25.826Z"
   },
   {
    "duration": 16,
    "start_time": "2025-04-15T17:07:14.561Z"
   },
   {
    "duration": 14,
    "start_time": "2025-04-15T17:09:11.550Z"
   },
   {
    "duration": 16,
    "start_time": "2025-04-15T17:09:40.067Z"
   },
   {
    "duration": 17,
    "start_time": "2025-04-15T17:32:43.929Z"
   },
   {
    "duration": 12,
    "start_time": "2025-04-15T17:32:53.647Z"
   },
   {
    "duration": 51,
    "start_time": "2025-04-16T14:31:14.025Z"
   },
   {
    "duration": 437,
    "start_time": "2025-04-16T14:31:56.129Z"
   },
   {
    "duration": 45,
    "start_time": "2025-04-16T14:31:56.568Z"
   },
   {
    "duration": 46,
    "start_time": "2025-04-16T14:31:56.615Z"
   },
   {
    "duration": 22,
    "start_time": "2025-04-16T14:31:56.663Z"
   },
   {
    "duration": 85,
    "start_time": "2025-04-16T14:31:56.688Z"
   },
   {
    "duration": 7,
    "start_time": "2025-04-16T14:32:40.119Z"
   },
   {
    "duration": 6,
    "start_time": "2025-04-16T14:33:01.836Z"
   },
   {
    "duration": 7,
    "start_time": "2025-04-16T14:33:11.174Z"
   },
   {
    "duration": 11,
    "start_time": "2025-04-16T15:15:08.964Z"
   },
   {
    "duration": 11,
    "start_time": "2025-04-16T15:16:10.456Z"
   },
   {
    "duration": 10,
    "start_time": "2025-04-16T15:16:15.866Z"
   },
   {
    "duration": 13,
    "start_time": "2025-04-16T15:16:34.176Z"
   },
   {
    "duration": 11,
    "start_time": "2025-04-16T15:16:51.997Z"
   },
   {
    "duration": 10,
    "start_time": "2025-04-16T15:17:26.318Z"
   },
   {
    "duration": 11,
    "start_time": "2025-04-16T15:17:44.244Z"
   }
  ],
  "colab": {
   "provenance": []
  },
  "kernelspec": {
   "display_name": "Python 3 (ipykernel)",
   "language": "python",
   "name": "python3"
  },
  "language_info": {
   "codemirror_mode": {
    "name": "ipython",
    "version": 3
   },
   "file_extension": ".py",
   "mimetype": "text/x-python",
   "name": "python",
   "nbconvert_exporter": "python",
   "pygments_lexer": "ipython3",
   "version": "3.9.5"
  },
  "toc": {
   "base_numbering": 1,
   "nav_menu": {},
   "number_sections": true,
   "sideBar": true,
   "skip_h1_title": true,
   "title_cell": "Table of Contents",
   "title_sidebar": "Contents",
   "toc_cell": false,
   "toc_position": {},
   "toc_section_display": true,
   "toc_window_display": false
  }
 },
 "nbformat": 4,
 "nbformat_minor": 5
}
